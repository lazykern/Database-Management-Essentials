{
 "cells": [
  {
   "cell_type": "code",
   "execution_count": 10,
   "source": [
    "len([\"EventNo\",\"DateHeld\",\"DateReq\",\"CustNo\",\"FacNo\",\"DateAuth\",\"Status\",\"EstCost\",\"EstAudience\",\"BudNo\"])"
   ],
   "outputs": [
    {
     "output_type": "execute_result",
     "data": {
      "text/plain": [
       "10"
      ]
     },
     "metadata": {},
     "execution_count": 10
    }
   ],
   "metadata": {}
  },
  {
   "cell_type": "code",
   "execution_count": null,
   "source": [],
   "outputs": [],
   "metadata": {}
  }
 ],
 "metadata": {
  "orig_nbformat": 4,
  "language_info": {
   "name": "python",
   "version": "3.9.6",
   "mimetype": "text/x-python",
   "codemirror_mode": {
    "name": "ipython",
    "version": 3
   },
   "pygments_lexer": "ipython3",
   "nbconvert_exporter": "python",
   "file_extension": ".py"
  },
  "kernelspec": {
   "name": "python3",
   "display_name": "Python 3.9.6 64-bit ('data': conda)"
  },
  "interpreter": {
   "hash": "60b38853a872525f5db1ed72f1415436bd4f970e0d5b34e15fa67281eec655ea"
  }
 },
 "nbformat": 4,
 "nbformat_minor": 2
}